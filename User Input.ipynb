{
 "cells": [
  {
   "cell_type": "code",
   "execution_count": 1,
   "metadata": {},
   "outputs": [
    {
     "name": "stdout",
     "output_type": "stream",
     "text": [
      "Enter your name: Ian\n",
      "Enter your age: 23\n",
      "Enter your favorite color: Black\n",
      "Ian is 23 years old, his favorite color is Black and he will turn 100 years old in 77 years.\n"
     ]
    }
   ],
   "source": [
    "Name = input(\"Enter your name: \")\n",
    "Age = int(input(\"Enter your age: \"))\n",
    "Favorite_color = input(\"Enter your favorite color: \")\n",
    "Years_to_turn_100 = 100 - Age\n",
    "print(f\"{Name} is {Age} years old, his favorite color is {Favorite_color} and he will turn 100 years old in {Years_to_turn_100} years.\")\n"
   ]
  },
  {
   "cell_type": "code",
   "execution_count": null,
   "metadata": {},
   "outputs": [],
   "source": []
  }
 ],
 "metadata": {
  "kernelspec": {
   "display_name": "Python (learn-env)",
   "language": "python",
   "name": "learn-env"
  },
  "language_info": {
   "codemirror_mode": {
    "name": "ipython",
    "version": 3
   },
   "file_extension": ".py",
   "mimetype": "text/x-python",
   "name": "python",
   "nbconvert_exporter": "python",
   "pygments_lexer": "ipython3",
   "version": "3.8.5"
  }
 },
 "nbformat": 4,
 "nbformat_minor": 4
}
